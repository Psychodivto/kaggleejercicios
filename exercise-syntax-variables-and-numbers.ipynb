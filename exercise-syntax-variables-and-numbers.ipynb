{
 "cells": [
  {
   "cell_type": "markdown",
   "id": "b3de24d0",
   "metadata": {
    "_uuid": "2d6d70b1888cc482e625146c5c52e649c0a6628a",
    "papermill": {
     "duration": 0.009666,
     "end_time": "2022-10-18T04:07:01.692627",
     "exception": false,
     "start_time": "2022-10-18T04:07:01.682961",
     "status": "completed"
    },
    "tags": []
   },
   "source": [
    "Welcome to Kaggle Learn's Python course. This course will cover the fundamental Python skills that you’ll need before jumping in to using Python for data science. These lessons are aimed at those with some previous coding experience who are looking to add Python to their repertoire or level up their Python skills. (If you're a first-time coder, you may find this course a bit too fast-paced. You may want to check out [these \"Python for Non-Programmers\" learning resources](https://wiki.python.org/moin/BeginnersGuide/NonProgrammers).)\n",
    "\n",
    "This first lesson will cover a brief overview of Python syntax, variable assignment, and arithmetic operators. If you have previous Python experience, you may want to [skip straight to the exercise](https://www.kaggle.com/kernels/fork/1275163).\n",
    "\n",
    "> These lessons borrow and adapt some content from [A Whirlwind Tour of Python](https://www.kaggle.com/sohier/whirlwind-tour-of-python-index). Thanks to the author, Jake VanderPlas, for releasing it under a permissive license. If you're interested in a more thorough, theoretical grounding in Python, I encourage you to check out WTOP.\n"
   ]
  },
  {
   "cell_type": "markdown",
   "id": "c6115fcd",
   "metadata": {
    "_uuid": "db2f5b8497646efd5279ce359cb48cc879251697",
    "papermill": {
     "duration": 0.008032,
     "end_time": "2022-10-18T04:07:01.709087",
     "exception": false,
     "start_time": "2022-10-18T04:07:01.701055",
     "status": "completed"
    },
    "tags": []
   },
   "source": [
    "# Hello, Python!\n",
    "\n",
    "Python was named for the British comedy troupe [Monty Python](https://en.wikipedia.org/wiki/Monty_Python), so why not make our first Python program an homage to their famous [Spam](https://en.wikipedia.org/wiki/Spam_(Monty_Python%29) skit?\n",
    "\n",
    "<!-- todo: maybe a little side note on spam metasyntactic variables in Python -->\n",
    "\n",
    "Just for fun, try reading over the code below and predicting what it's going to do when run. (If you have no idea, that's fine!)\n",
    "\n",
    "Then click the \"output\" button to see the results of our program."
   ]
  },
  {
   "cell_type": "code",
   "execution_count": 1,
   "id": "3a30422b",
   "metadata": {
    "_kg_hide-output": true,
    "_uuid": "a924297f5b7a5a4d896d3d98dcb71c4949fac040",
    "execution": {
     "iopub.execute_input": "2022-10-18T04:07:01.727785Z",
     "iopub.status.busy": "2022-10-18T04:07:01.727319Z",
     "iopub.status.idle": "2022-10-18T04:07:01.739846Z",
     "shell.execute_reply": "2022-10-18T04:07:01.738680Z"
    },
    "papermill": {
     "duration": 0.026093,
     "end_time": "2022-10-18T04:07:01.743456",
     "exception": false,
     "start_time": "2022-10-18T04:07:01.717363",
     "status": "completed"
    },
    "tags": []
   },
   "outputs": [
    {
     "name": "stdout",
     "output_type": "stream",
     "text": [
      "0\n",
      "But I don't want ANY spam!\n",
      "Spam Spam Spam Spam \n"
     ]
    }
   ],
   "source": [
    "spam_amount = 0\n",
    "print(spam_amount)\n",
    "\n",
    "# Ordering Spam, egg, Spam, Spam, bacon and Spam (4 more servings of Spam)\n",
    "spam_amount = spam_amount + 4\n",
    "\n",
    "if spam_amount > 0:\n",
    "    print(\"But I don't want ANY spam!\")\n",
    "\n",
    "viking_song = \"Spam \" * spam_amount\n",
    "print(viking_song)"
   ]
  },
  {
   "cell_type": "markdown",
   "id": "232e1824",
   "metadata": {
    "_uuid": "1164ebe7332739ffcc1d59fee9b69aada31e7b5f",
    "papermill": {
     "duration": 0.008197,
     "end_time": "2022-10-18T04:07:01.760908",
     "exception": false,
     "start_time": "2022-10-18T04:07:01.752711",
     "status": "completed"
    },
    "tags": []
   },
   "source": [
    "There's a lot to unpack here! This silly program demonstrates many important aspects of what Python code looks like (its *syntax*) and how it works (its *semantics*). Let's run down the code from top to bottom."
   ]
  },
  {
   "cell_type": "code",
   "execution_count": 2,
   "id": "e8383cfb",
   "metadata": {
    "_uuid": "defdfa8b50e699b0278b48a458838c78f622db79",
    "execution": {
     "iopub.execute_input": "2022-10-18T04:07:01.779831Z",
     "iopub.status.busy": "2022-10-18T04:07:01.779064Z",
     "iopub.status.idle": "2022-10-18T04:07:01.784356Z",
     "shell.execute_reply": "2022-10-18T04:07:01.783581Z"
    },
    "papermill": {
     "duration": 0.017217,
     "end_time": "2022-10-18T04:07:01.786600",
     "exception": false,
     "start_time": "2022-10-18T04:07:01.769383",
     "status": "completed"
    },
    "tags": []
   },
   "outputs": [],
   "source": [
    "spam_amount = 0"
   ]
  },
  {
   "cell_type": "markdown",
   "id": "4595c375",
   "metadata": {
    "_uuid": "b018350e4786d81aff1dfd5029268af21e3ee636",
    "papermill": {
     "duration": 0.008032,
     "end_time": "2022-10-18T04:07:01.804581",
     "exception": false,
     "start_time": "2022-10-18T04:07:01.796549",
     "status": "completed"
    },
    "tags": []
   },
   "source": [
    "**Variable assignment!** Here we create a variable called `spam_amount` and assign it the value of 0 using `=`, Python's assignment operator.\n",
    "\n",
    "> **Aside**: If you've programmed in certain other languages (like Java or C++), you might be noticing some things Python *doesn't* require us to do here:  \n",
    "- we don't need to \"declare\" `spam_amount` before assigning to it\n",
    "- we don't need to tell Python what type of value `spam_amount` is going to refer to. In fact, we can even go on to reassign `spam_amount` to refer to a different sort of thing like a string or a boolean."
   ]
  },
  {
   "cell_type": "code",
   "execution_count": 3,
   "id": "7f573850",
   "metadata": {
    "_kg_hide-output": false,
    "_uuid": "6e78db1a32ddb62abd5623bbcb87948caa11feba",
    "execution": {
     "iopub.execute_input": "2022-10-18T04:07:01.823590Z",
     "iopub.status.busy": "2022-10-18T04:07:01.822686Z",
     "iopub.status.idle": "2022-10-18T04:07:01.828267Z",
     "shell.execute_reply": "2022-10-18T04:07:01.827221Z"
    },
    "papermill": {
     "duration": 0.01804,
     "end_time": "2022-10-18T04:07:01.831132",
     "exception": false,
     "start_time": "2022-10-18T04:07:01.813092",
     "status": "completed"
    },
    "tags": []
   },
   "outputs": [
    {
     "name": "stdout",
     "output_type": "stream",
     "text": [
      "0\n"
     ]
    }
   ],
   "source": [
    "print(spam_amount)"
   ]
  },
  {
   "cell_type": "markdown",
   "id": "db7c00d7",
   "metadata": {
    "_uuid": "a3bf6dad9d61b68a84810accf8e0ad1e9fa9b139",
    "papermill": {
     "duration": 0.008608,
     "end_time": "2022-10-18T04:07:01.848337",
     "exception": false,
     "start_time": "2022-10-18T04:07:01.839729",
     "status": "completed"
    },
    "tags": []
   },
   "source": [
    "A **function call**. `print` is an extremely useful builtin Python function that displays the value passed to it on the screen. We call functions by putting parentheses after their name, with the inputs to the function (or *arguments*) in between."
   ]
  },
  {
   "cell_type": "code",
   "execution_count": 4,
   "id": "42b491c1",
   "metadata": {
    "_kg_hide-output": false,
    "_uuid": "fd8f7da4694ee802a3dbaa676a86be517c255e8a",
    "execution": {
     "iopub.execute_input": "2022-10-18T04:07:01.867095Z",
     "iopub.status.busy": "2022-10-18T04:07:01.866709Z",
     "iopub.status.idle": "2022-10-18T04:07:01.871192Z",
     "shell.execute_reply": "2022-10-18T04:07:01.870056Z"
    },
    "papermill": {
     "duration": 0.016533,
     "end_time": "2022-10-18T04:07:01.873347",
     "exception": false,
     "start_time": "2022-10-18T04:07:01.856814",
     "status": "completed"
    },
    "tags": []
   },
   "outputs": [],
   "source": [
    "# Ordering Spam, egg, Spam, Spam, bacon and Spam (4 more servings of Spam)\n",
    "spam_amount = spam_amount + 4"
   ]
  },
  {
   "cell_type": "markdown",
   "id": "77d5ee4a",
   "metadata": {
    "_uuid": "d964625d576be50294796f85868a80cf473069f4",
    "papermill": {
     "duration": 0.00973,
     "end_time": "2022-10-18T04:07:01.891353",
     "exception": false,
     "start_time": "2022-10-18T04:07:01.881623",
     "status": "completed"
    },
    "tags": []
   },
   "source": [
    "The first line above is a **comment**. In Python, comments begin with the `#` symbol.\n",
    "\n",
    "Next we see an example of reassignment. Reassigning the value of an existing variable looks just the same as creating a variable - it still uses the `=` assignment operator.\n",
    "\n",
    "In this case, the value we're assigning to `spam_amount` involves a little simple arithmetic on its previous value. When it encounters this line, Python evaluates the expression on the right-hand-side of the `=` (0 + 4 = 4), and then assigns that value to the variable on the left-hand-side."
   ]
  },
  {
   "cell_type": "code",
   "execution_count": 5,
   "id": "2097bb58",
   "metadata": {
    "_kg_hide-output": false,
    "_uuid": "dab1b622a40b44f5c39d6616018a3a9c7cb4fdc9",
    "execution": {
     "iopub.execute_input": "2022-10-18T04:07:01.914266Z",
     "iopub.status.busy": "2022-10-18T04:07:01.913563Z",
     "iopub.status.idle": "2022-10-18T04:07:01.920903Z",
     "shell.execute_reply": "2022-10-18T04:07:01.919035Z"
    },
    "papermill": {
     "duration": 0.023549,
     "end_time": "2022-10-18T04:07:01.924805",
     "exception": false,
     "start_time": "2022-10-18T04:07:01.901256",
     "status": "completed"
    },
    "tags": []
   },
   "outputs": [
    {
     "name": "stdout",
     "output_type": "stream",
     "text": [
      "But I don't want ANY spam!\n"
     ]
    }
   ],
   "source": [
    "if spam_amount > 0:\n",
    "    print(\"But I don't want ANY spam!\")"
   ]
  },
  {
   "cell_type": "markdown",
   "id": "902e9c25",
   "metadata": {
    "_uuid": "c43ddf39a2626800d4b978f31c65a49edaf5ce00",
    "papermill": {
     "duration": 0.008557,
     "end_time": "2022-10-18T04:07:01.943052",
     "exception": false,
     "start_time": "2022-10-18T04:07:01.934495",
     "status": "completed"
    },
    "tags": []
   },
   "source": [
    "We won't talk much about conditionals until later, but, even if you've never coded before, you can probably guess what this does. Python is prized for its readability and the simplicity of its syntax (with some going as far as to call it \"executable pseudocode\"). \n",
    "\n",
    "Note how we indicated which code belongs to the `if`. `\"But I don't want ANY spam!\"` is only supposed to be printed if `spam_amount` is positive. But the later code (like `print(viking_song)`) should be executed no matter what. How do we (and Python) know that?\n",
    "\n",
    "The colon (`:`) at the end of the `if` line indicates that a new \"code block\" is coming up. Subsequent lines which are **indented** (beginning with an extra 4 spaces) are part of that code block. You may be familiar with other languages which use `{`curly braces`}` to mark the beginning and end of code blocks. Python's use of meaningful whitespace often is surprising to programmers who are accustomed to other languages, but in practice it can lead to more consistent and readable code than languages that do not enforce indentation of code blocks. \n",
    "\n",
    "The later lines dealing with `viking_song` are not indented with an extra 4 spaces, so they're not a part of the `if`'s code block. We'll see more examples of indented code blocks later when we start defining functions and using loops.\n",
    "\n",
    "This code snippet is also our first sighting of a **string** in Python:\n",
    "\n",
    "```python\n",
    "\"But I don't want ANY spam!\"\n",
    "```\n",
    "\n",
    "Strings can be marked either by double or single quotation marks. (But because this particular string *contains* a single-quote character, we might confuse Python by trying to surround it with single-quotes, unless we're careful.)"
   ]
  },
  {
   "cell_type": "code",
   "execution_count": 6,
   "id": "d30c2ac8",
   "metadata": {
    "_kg_hide-output": false,
    "_uuid": "26e1aec1e7fa4a8931026134f41bf11f70dc0421",
    "execution": {
     "iopub.execute_input": "2022-10-18T04:07:01.965192Z",
     "iopub.status.busy": "2022-10-18T04:07:01.964517Z",
     "iopub.status.idle": "2022-10-18T04:07:01.970391Z",
     "shell.execute_reply": "2022-10-18T04:07:01.969187Z"
    },
    "papermill": {
     "duration": 0.019872,
     "end_time": "2022-10-18T04:07:01.973071",
     "exception": false,
     "start_time": "2022-10-18T04:07:01.953199",
     "status": "completed"
    },
    "tags": []
   },
   "outputs": [
    {
     "name": "stdout",
     "output_type": "stream",
     "text": [
      "Spam Spam Spam Spam \n"
     ]
    }
   ],
   "source": [
    "viking_song = \"Spam \" * spam_amount\n",
    "print(viking_song)"
   ]
  },
  {
   "cell_type": "markdown",
   "id": "5d3a2c2b",
   "metadata": {
    "_uuid": "5d7270467ca70255053e37bd3251546677e3d973",
    "papermill": {
     "duration": 0.00829,
     "end_time": "2022-10-18T04:07:01.990580",
     "exception": false,
     "start_time": "2022-10-18T04:07:01.982290",
     "status": "completed"
    },
    "tags": []
   },
   "source": [
    "The `*` operator can be used to multiply two numbers (`3 * 3` evaluates to 9), but amusingly enough, we can also multiply a string by a number, to get a version that's been repeated that many times. Python offers a number of cheeky little time-saving tricks like this where operators like `*` and `+` have a different meaning depending on what kind of thing they're applied to. (The technical term for this is [operator overloading](https://en.wikipedia.org/wiki/Operator_overloading))"
   ]
  },
  {
   "cell_type": "markdown",
   "id": "114f5410",
   "metadata": {
    "_uuid": "728a2a2c573eb30071f39ec77ab5aeba149e97d5",
    "papermill": {
     "duration": 0.008357,
     "end_time": "2022-10-18T04:07:02.007434",
     "exception": false,
     "start_time": "2022-10-18T04:07:01.999077",
     "status": "completed"
    },
    "tags": []
   },
   "source": [
    "## Numbers and arithmetic in Python\n",
    "\n",
    "We've already seen an example of a variable containing a number above:"
   ]
  },
  {
   "cell_type": "code",
   "execution_count": 7,
   "id": "9798300d",
   "metadata": {
    "_uuid": "47f824c5eba39adce356f6134f970ddf883c182f",
    "execution": {
     "iopub.execute_input": "2022-10-18T04:07:02.026408Z",
     "iopub.status.busy": "2022-10-18T04:07:02.025386Z",
     "iopub.status.idle": "2022-10-18T04:07:02.029882Z",
     "shell.execute_reply": "2022-10-18T04:07:02.029117Z"
    },
    "papermill": {
     "duration": 0.01613,
     "end_time": "2022-10-18T04:07:02.031866",
     "exception": false,
     "start_time": "2022-10-18T04:07:02.015736",
     "status": "completed"
    },
    "tags": []
   },
   "outputs": [],
   "source": [
    "spam_amount = 0"
   ]
  },
  {
   "cell_type": "markdown",
   "id": "5b958e0e",
   "metadata": {
    "_uuid": "8642a8ca5fcce2aa1fb84b68f57cfe57e3c9bac1",
    "papermill": {
     "duration": 0.008937,
     "end_time": "2022-10-18T04:07:02.049156",
     "exception": false,
     "start_time": "2022-10-18T04:07:02.040219",
     "status": "completed"
    },
    "tags": []
   },
   "source": [
    "\"Number\" is a fine informal name for the kind of thing, but if we wanted to be more technical, we could ask Python how it would describe the type of thing that `spam_amount` is:"
   ]
  },
  {
   "cell_type": "code",
   "execution_count": 8,
   "id": "bcbb11f2",
   "metadata": {
    "_uuid": "5c039a9cde0b8b5e32c89182c7cb0951b37d6a71",
    "execution": {
     "iopub.execute_input": "2022-10-18T04:07:02.068792Z",
     "iopub.status.busy": "2022-10-18T04:07:02.068141Z",
     "iopub.status.idle": "2022-10-18T04:07:02.076966Z",
     "shell.execute_reply": "2022-10-18T04:07:02.076014Z"
    },
    "papermill": {
     "duration": 0.021918,
     "end_time": "2022-10-18T04:07:02.079725",
     "exception": false,
     "start_time": "2022-10-18T04:07:02.057807",
     "status": "completed"
    },
    "tags": []
   },
   "outputs": [
    {
     "data": {
      "text/plain": [
       "int"
      ]
     },
     "execution_count": 8,
     "metadata": {},
     "output_type": "execute_result"
    }
   ],
   "source": [
    "type(spam_amount)"
   ]
  },
  {
   "cell_type": "markdown",
   "id": "067134e8",
   "metadata": {
    "_uuid": "da836fecf2dd14b61a7ca833750372aa70e63336",
    "papermill": {
     "duration": 0.008447,
     "end_time": "2022-10-18T04:07:02.096988",
     "exception": false,
     "start_time": "2022-10-18T04:07:02.088541",
     "status": "completed"
    },
    "tags": []
   },
   "source": [
    "It's an `int` - short for integer. There's another sort of number we commonly encounter in Python:"
   ]
  },
  {
   "cell_type": "code",
   "execution_count": 9,
   "id": "b41cd3d8",
   "metadata": {
    "_uuid": "d416fd5f284b1a737fb7c94f5e2dc3acdd869213",
    "execution": {
     "iopub.execute_input": "2022-10-18T04:07:02.115894Z",
     "iopub.status.busy": "2022-10-18T04:07:02.115116Z",
     "iopub.status.idle": "2022-10-18T04:07:02.121407Z",
     "shell.execute_reply": "2022-10-18T04:07:02.120657Z"
    },
    "papermill": {
     "duration": 0.018444,
     "end_time": "2022-10-18T04:07:02.123809",
     "exception": false,
     "start_time": "2022-10-18T04:07:02.105365",
     "status": "completed"
    },
    "tags": []
   },
   "outputs": [
    {
     "data": {
      "text/plain": [
       "float"
      ]
     },
     "execution_count": 9,
     "metadata": {},
     "output_type": "execute_result"
    }
   ],
   "source": [
    "type(19.95)"
   ]
  },
  {
   "cell_type": "markdown",
   "id": "a8441a35",
   "metadata": {
    "_uuid": "23d5936c74dc956c4238d3453405f830ae26005b",
    "papermill": {
     "duration": 0.00835,
     "end_time": "2022-10-18T04:07:02.140919",
     "exception": false,
     "start_time": "2022-10-18T04:07:02.132569",
     "status": "completed"
    },
    "tags": []
   },
   "source": [
    "A `float` is a number with a decimal place - very useful for representing things like weights or proportions.\n",
    "\n",
    "`type()` is the second built-in function we've seen (after `print()`), and it's another good one to remember. It's very useful to be able to ask Python \"what kind of thing is this?\". "
   ]
  },
  {
   "cell_type": "markdown",
   "id": "1ae996f6",
   "metadata": {
    "_uuid": "45328610942acb8cb5eb78d5103308b21f913604",
    "papermill": {
     "duration": 0.010811,
     "end_time": "2022-10-18T04:07:02.160305",
     "exception": false,
     "start_time": "2022-10-18T04:07:02.149494",
     "status": "completed"
    },
    "tags": []
   },
   "source": [
    "A natural thing to want to do with numbers is perform arithmetic. We've seen the `+` operator for addition, and the `*` operator for multiplication (of a sort). Python also has us covered for the rest of the basic buttons on your calculator:\n",
    "\n",
    "| Operator     | Name           | Description                                            |\n",
    "|--------------|----------------|--------------------------------------------------------|\n",
    "| ``a + b``    | Addition       | Sum of ``a`` and ``b``                                 |\n",
    "| ``a - b``    | Subtraction    | Difference of ``a`` and ``b``                          |\n",
    "| ``a * b``    | Multiplication | Product of ``a`` and ``b``                             |\n",
    "| ``a / b``    | True division  | Quotient of ``a`` and ``b``                            |\n",
    "| ``a // b``   | Floor division | Quotient of ``a`` and ``b``, removing fractional parts |\n",
    "| ``a % b``    | Modulus        | Integer remainder after division of ``a`` by ``b``     |\n",
    "| ``a ** b``   | Exponentiation | ``a`` raised to the power of ``b``                     |\n",
    "| ``-a``       | Negation       | The negative of ``a``                                  |\n",
    "\n",
    "<span style=\"display:none\">hack</span>\n",
    "\n",
    "One interesting observation here is that, whereas your calculator probably just has one button for division, Python can do two kinds. \"True division\" is basically what your calculator does:"
   ]
  },
  {
   "cell_type": "code",
   "execution_count": 10,
   "id": "9deb743a",
   "metadata": {
    "_uuid": "e63f6ef5c22e2c4fa956113ac4e6bedc334c7a9a",
    "execution": {
     "iopub.execute_input": "2022-10-18T04:07:02.180600Z",
     "iopub.status.busy": "2022-10-18T04:07:02.179922Z",
     "iopub.status.idle": "2022-10-18T04:07:02.185658Z",
     "shell.execute_reply": "2022-10-18T04:07:02.184384Z"
    },
    "papermill": {
     "duration": 0.018311,
     "end_time": "2022-10-18T04:07:02.187900",
     "exception": false,
     "start_time": "2022-10-18T04:07:02.169589",
     "status": "completed"
    },
    "tags": []
   },
   "outputs": [
    {
     "name": "stdout",
     "output_type": "stream",
     "text": [
      "2.5\n",
      "3.0\n"
     ]
    }
   ],
   "source": [
    "print(5 / 2)\n",
    "print(6 / 2)"
   ]
  },
  {
   "cell_type": "markdown",
   "id": "61c4ce56",
   "metadata": {
    "_uuid": "2fbc4176521849e9132783623edc0a5a5f70745b",
    "papermill": {
     "duration": 0.008599,
     "end_time": "2022-10-18T04:07:02.205401",
     "exception": false,
     "start_time": "2022-10-18T04:07:02.196802",
     "status": "completed"
    },
    "tags": []
   },
   "source": [
    "It always gives us a `float`. \n",
    "\n",
    "The `//` operator gives us a result that's rounded down to the next integer."
   ]
  },
  {
   "cell_type": "code",
   "execution_count": 11,
   "id": "0b68de28",
   "metadata": {
    "_uuid": "bf83dff9b51ce0ec45edc92d59e7b3decbdf93d3",
    "execution": {
     "iopub.execute_input": "2022-10-18T04:07:02.225222Z",
     "iopub.status.busy": "2022-10-18T04:07:02.224546Z",
     "iopub.status.idle": "2022-10-18T04:07:02.230867Z",
     "shell.execute_reply": "2022-10-18T04:07:02.229260Z"
    },
    "papermill": {
     "duration": 0.018857,
     "end_time": "2022-10-18T04:07:02.233092",
     "exception": false,
     "start_time": "2022-10-18T04:07:02.214235",
     "status": "completed"
    },
    "tags": []
   },
   "outputs": [
    {
     "name": "stdout",
     "output_type": "stream",
     "text": [
      "2\n",
      "3\n"
     ]
    }
   ],
   "source": [
    "print(5 // 2)\n",
    "print(6 // 2)"
   ]
  },
  {
   "cell_type": "markdown",
   "id": "53bb2327",
   "metadata": {
    "_uuid": "c69cd389b81fa36eb32b606d3d8a5c849eab9858",
    "papermill": {
     "duration": 0.011298,
     "end_time": "2022-10-18T04:07:02.253356",
     "exception": false,
     "start_time": "2022-10-18T04:07:02.242058",
     "status": "completed"
    },
    "tags": []
   },
   "source": [
    "Can you think of where this would be useful? You may see an example soon in the coding problems."
   ]
  },
  {
   "cell_type": "markdown",
   "id": "0a8363c0",
   "metadata": {
    "_uuid": "cd0887bd851b5e5c52eadfc32d8f5baea33accab",
    "papermill": {
     "duration": 0.008717,
     "end_time": "2022-10-18T04:07:02.271680",
     "exception": false,
     "start_time": "2022-10-18T04:07:02.262963",
     "status": "completed"
    },
    "tags": []
   },
   "source": [
    "### Order of operations\n",
    "\n",
    "The arithmetic we learned in primary school has conventions about the order in which operations are evaluated. Some remember these by a mnemonic such as **PEMDAS** - **P**arentheses, **E**xponents, **M**ultiplication/**D**ivision, **A**ddition/**S**ubtraction.\n",
    "\n",
    "Python follows similar rules about which calculations to perform first. They're mostly pretty intuitive."
   ]
  },
  {
   "cell_type": "code",
   "execution_count": 12,
   "id": "d07103be",
   "metadata": {
    "_uuid": "d3ca9889a03021a5e12bd062822b40b8a603fdc2",
    "execution": {
     "iopub.execute_input": "2022-10-18T04:07:02.292894Z",
     "iopub.status.busy": "2022-10-18T04:07:02.292229Z",
     "iopub.status.idle": "2022-10-18T04:07:02.299009Z",
     "shell.execute_reply": "2022-10-18T04:07:02.298127Z"
    },
    "papermill": {
     "duration": 0.020468,
     "end_time": "2022-10-18T04:07:02.301174",
     "exception": false,
     "start_time": "2022-10-18T04:07:02.280706",
     "status": "completed"
    },
    "tags": []
   },
   "outputs": [
    {
     "data": {
      "text/plain": [
       "7"
      ]
     },
     "execution_count": 12,
     "metadata": {},
     "output_type": "execute_result"
    }
   ],
   "source": [
    "8 - 3 + 2"
   ]
  },
  {
   "cell_type": "code",
   "execution_count": 13,
   "id": "f1eebe6c",
   "metadata": {
    "_uuid": "42b86f436fffd820b1aea23cddd4b179a84a9993",
    "execution": {
     "iopub.execute_input": "2022-10-18T04:07:02.320752Z",
     "iopub.status.busy": "2022-10-18T04:07:02.320120Z",
     "iopub.status.idle": "2022-10-18T04:07:02.327710Z",
     "shell.execute_reply": "2022-10-18T04:07:02.326170Z"
    },
    "papermill": {
     "duration": 0.020893,
     "end_time": "2022-10-18T04:07:02.330950",
     "exception": false,
     "start_time": "2022-10-18T04:07:02.310057",
     "status": "completed"
    },
    "tags": []
   },
   "outputs": [
    {
     "data": {
      "text/plain": [
       "5"
      ]
     },
     "execution_count": 13,
     "metadata": {},
     "output_type": "execute_result"
    }
   ],
   "source": [
    "-3 + 4 * 2"
   ]
  },
  {
   "cell_type": "markdown",
   "id": "a8db37e7",
   "metadata": {
    "_uuid": "c4142a72fbef5afe7d62958db25a061227158494",
    "papermill": {
     "duration": 0.009803,
     "end_time": "2022-10-18T04:07:02.350962",
     "exception": false,
     "start_time": "2022-10-18T04:07:02.341159",
     "status": "completed"
    },
    "tags": []
   },
   "source": [
    "Sometimes the default order of operations isn't what we want:"
   ]
  },
  {
   "cell_type": "code",
   "execution_count": 14,
   "id": "31142f96",
   "metadata": {
    "_uuid": "bbc5bcc2793d2dc997da9b095d986c7460b1553e",
    "execution": {
     "iopub.execute_input": "2022-10-18T04:07:02.371538Z",
     "iopub.status.busy": "2022-10-18T04:07:02.371140Z",
     "iopub.status.idle": "2022-10-18T04:07:02.376635Z",
     "shell.execute_reply": "2022-10-18T04:07:02.375526Z"
    },
    "papermill": {
     "duration": 0.019392,
     "end_time": "2022-10-18T04:07:02.379844",
     "exception": false,
     "start_time": "2022-10-18T04:07:02.360452",
     "status": "completed"
    },
    "tags": []
   },
   "outputs": [
    {
     "name": "stdout",
     "output_type": "stream",
     "text": [
      "Height in meters = 26.9 ?\n"
     ]
    }
   ],
   "source": [
    "hat_height_cm = 25\n",
    "my_height_cm = 190\n",
    "# How tall am I, in meters, when wearing my hat?\n",
    "total_height_meters = hat_height_cm + my_height_cm / 100\n",
    "print(\"Height in meters =\", total_height_meters, \"?\")"
   ]
  },
  {
   "cell_type": "markdown",
   "id": "c3e02268",
   "metadata": {
    "_uuid": "cca7fafe245e2b5b55ed12ffe8c6931126cee5fc",
    "papermill": {
     "duration": 0.009102,
     "end_time": "2022-10-18T04:07:02.399658",
     "exception": false,
     "start_time": "2022-10-18T04:07:02.390556",
     "status": "completed"
    },
    "tags": []
   },
   "source": [
    "Parentheses are your trump card. You can add them to force Python to evaluate sub-expressions in a different order (or just to make your code easier to read)."
   ]
  },
  {
   "cell_type": "code",
   "execution_count": 15,
   "id": "df6d7fd1",
   "metadata": {
    "_uuid": "41df8027015691d00823a6f604bd2e651b1b65a5",
    "execution": {
     "iopub.execute_input": "2022-10-18T04:07:02.420365Z",
     "iopub.status.busy": "2022-10-18T04:07:02.419997Z",
     "iopub.status.idle": "2022-10-18T04:07:02.425443Z",
     "shell.execute_reply": "2022-10-18T04:07:02.424207Z"
    },
    "papermill": {
     "duration": 0.01867,
     "end_time": "2022-10-18T04:07:02.427974",
     "exception": false,
     "start_time": "2022-10-18T04:07:02.409304",
     "status": "completed"
    },
    "tags": []
   },
   "outputs": [
    {
     "name": "stdout",
     "output_type": "stream",
     "text": [
      "Height in meters = 2.15\n"
     ]
    }
   ],
   "source": [
    "total_height_meters = (hat_height_cm + my_height_cm) / 100\n",
    "print(\"Height in meters =\", total_height_meters)"
   ]
  },
  {
   "cell_type": "markdown",
   "id": "e8a11f72",
   "metadata": {
    "_uuid": "191b97483aea1fdae41888d68854c1dbd796249c",
    "papermill": {
     "duration": 0.008526,
     "end_time": "2022-10-18T04:07:02.445575",
     "exception": false,
     "start_time": "2022-10-18T04:07:02.437049",
     "status": "completed"
    },
    "tags": []
   },
   "source": [
    "### Builtin functions for working with numbers\n",
    "\n",
    "`min` and `max` return the minimum and maximum of their arguments, respectively..."
   ]
  },
  {
   "cell_type": "code",
   "execution_count": 16,
   "id": "d5f363aa",
   "metadata": {
    "_uuid": "d4c797ca9814a835ae478d58df39ab0fd50a0d22",
    "execution": {
     "iopub.execute_input": "2022-10-18T04:07:02.466553Z",
     "iopub.status.busy": "2022-10-18T04:07:02.465825Z",
     "iopub.status.idle": "2022-10-18T04:07:02.471898Z",
     "shell.execute_reply": "2022-10-18T04:07:02.470650Z"
    },
    "papermill": {
     "duration": 0.019383,
     "end_time": "2022-10-18T04:07:02.474443",
     "exception": false,
     "start_time": "2022-10-18T04:07:02.455060",
     "status": "completed"
    },
    "tags": []
   },
   "outputs": [
    {
     "name": "stdout",
     "output_type": "stream",
     "text": [
      "1\n",
      "3\n"
     ]
    }
   ],
   "source": [
    "print(min(1, 2, 3))\n",
    "print(max(1, 2, 3))"
   ]
  },
  {
   "cell_type": "markdown",
   "id": "1b58da17",
   "metadata": {
    "_uuid": "435f36a6de2a4ff71033161acd2ff9a43b7d6065",
    "papermill": {
     "duration": 0.009342,
     "end_time": "2022-10-18T04:07:02.493074",
     "exception": false,
     "start_time": "2022-10-18T04:07:02.483732",
     "status": "completed"
    },
    "tags": []
   },
   "source": [
    "`abs` returns the absolute value of it argument:"
   ]
  },
  {
   "cell_type": "code",
   "execution_count": 17,
   "id": "f8865a17",
   "metadata": {
    "_uuid": "dc5e41b7de243eb1ab6f1880725266d4be8b50ee",
    "execution": {
     "iopub.execute_input": "2022-10-18T04:07:02.512963Z",
     "iopub.status.busy": "2022-10-18T04:07:02.512559Z",
     "iopub.status.idle": "2022-10-18T04:07:02.517911Z",
     "shell.execute_reply": "2022-10-18T04:07:02.516878Z"
    },
    "papermill": {
     "duration": 0.018234,
     "end_time": "2022-10-18T04:07:02.520295",
     "exception": false,
     "start_time": "2022-10-18T04:07:02.502061",
     "status": "completed"
    },
    "tags": []
   },
   "outputs": [
    {
     "name": "stdout",
     "output_type": "stream",
     "text": [
      "32\n",
      "32\n"
     ]
    }
   ],
   "source": [
    "print(abs(32))\n",
    "print(abs(-32))"
   ]
  },
  {
   "cell_type": "markdown",
   "id": "ca67dfbd",
   "metadata": {
    "_uuid": "4824346c24ea16fc3d19c01d9695c0a395797449",
    "papermill": {
     "duration": 0.008816,
     "end_time": "2022-10-18T04:07:02.538346",
     "exception": false,
     "start_time": "2022-10-18T04:07:02.529530",
     "status": "completed"
    },
    "tags": []
   },
   "source": [
    "In addition to being the names of Python's two main numerical types, `int` and `float` can also be called as functions which convert their arguments to the corresponding type:"
   ]
  },
  {
   "cell_type": "code",
   "execution_count": 18,
   "id": "2ae768f8",
   "metadata": {
    "_uuid": "1e55a8f902a752820bb249241fc3f3d65e9cf035",
    "execution": {
     "iopub.execute_input": "2022-10-18T04:07:02.558388Z",
     "iopub.status.busy": "2022-10-18T04:07:02.557741Z",
     "iopub.status.idle": "2022-10-18T04:07:02.563527Z",
     "shell.execute_reply": "2022-10-18T04:07:02.562781Z"
    },
    "papermill": {
     "duration": 0.018193,
     "end_time": "2022-10-18T04:07:02.565632",
     "exception": false,
     "start_time": "2022-10-18T04:07:02.547439",
     "status": "completed"
    },
    "tags": []
   },
   "outputs": [
    {
     "name": "stdout",
     "output_type": "stream",
     "text": [
      "10.0\n",
      "3\n",
      "808\n"
     ]
    }
   ],
   "source": [
    "print(float(10))\n",
    "print(int(3.33))\n",
    "# They can even be called on strings!\n",
    "print(int('807') + 1)"
   ]
  },
  {
   "cell_type": "markdown",
   "id": "3349ee68",
   "metadata": {
    "_uuid": "2e1fc6b05284354627217591c323eb30295888db",
    "papermill": {
     "duration": 0.00946,
     "end_time": "2022-10-18T04:07:02.584469",
     "exception": false,
     "start_time": "2022-10-18T04:07:02.575009",
     "status": "completed"
    },
    "tags": []
   },
   "source": [
    "# Your turn!\n",
    "\n",
    "Head over to [the Exercises notebook](https://www.kaggle.com/kernels/fork/1275163) to get some hands-on practice working with syntax, variable assignment, and numbers."
   ]
  }
 ],
 "metadata": {
  "kernelspec": {
   "display_name": "Python 3",
   "language": "python",
   "name": "python3"
  },
  "language_info": {
   "codemirror_mode": {
    "name": "ipython",
    "version": 3
   },
   "file_extension": ".py",
   "mimetype": "text/x-python",
   "name": "python",
   "nbconvert_exporter": "python",
   "pygments_lexer": "ipython3",
   "version": "3.7.12"
  },
  "papermill": {
   "default_parameters": {},
   "duration": 10.137179,
   "end_time": "2022-10-18T04:07:03.215762",
   "environment_variables": {},
   "exception": null,
   "input_path": "__notebook__.ipynb",
   "output_path": "__notebook__.ipynb",
   "parameters": {},
   "start_time": "2022-10-18T04:06:53.078583",
   "version": "2.3.4"
  }
 },
 "nbformat": 4,
 "nbformat_minor": 5
}
